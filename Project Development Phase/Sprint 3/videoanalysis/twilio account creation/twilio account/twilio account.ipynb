{
  "nbformat": 4,
  "nbformat_minor": 0,
  "metadata": {
    "colab": {
      "provenance": []
    },
    "kernelspec": {
      "name": "python3",
      "display_name": "Python 3"
    },
    "language_info": {
      "name": "python"
    }
  },
  "cells": [
    {
      "cell_type": "code",
      "source": [
        "account_sid = 'AC381739ada733d1ba2fcee2548f10eef0'\n",
        "auth_token = '9258561042fab0f4b80ca038a4d7447f2'\n",
        "client = Client(account_sid,auth_token)\n",
        "message = client.messages\\\n",
        "    .create(\n",
        "        body = 'FOREST FIRE IS DETECTED,STAY ALERT',\n",
        "        from_ = '+14246228559',\n",
        "        to = '+918919689576'\n",
        "    )\n",
        "print(message.sid)"
      ],
      "metadata": {
        "id": "H_GWq7JpGsR0"
      },
      "execution_count": null,
      "outputs": []
    }
  ]
}